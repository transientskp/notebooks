{
 "cells": [
  {
   "cell_type": "code",
   "execution_count": 7,
   "metadata": {
    "collapsed": false
   },
   "outputs": [
    {
     "data": {
      "text/html": [
       "<div class=\"JS9Menubar\"></div>\n",
       "<div class=\"JS9\" id=\"JS9\"></div>\n",
       "<style>\n",
       "    @import(\"//js9.si.edu/js9/js9-allinone.css\");\n",
       "</style>"
      ],
      "text/plain": [
       "<IPython.core.display.HTML object>"
      ]
     },
     "metadata": {},
     "output_type": "display_data"
    }
   ],
   "source": [
    "%%html\n",
    "<div class=\"JS9Menubar\"></div>\n",
    "<div class=\"JS9\" id=\"JS9\"></div>\n",
    "<style>\n",
    "    @import(\"//js9.si.edu/js9/js9-allinone.css\");\n",
    "</style>"
   ]
  },
  {
   "cell_type": "code",
   "execution_count": 8,
   "metadata": {
    "collapsed": false
   },
   "outputs": [
    {
     "data": {
      "text/html": [
       "<script>\n",
       "    requirejs({\n",
       "        paths: {\n",
       "            js9: \"//js9.si.edu/js9/js9-allinone\",\n",
       "        },\n",
       "        shim: {\n",
       "            js9: {\n",
       "                exports: \"JS9\"\n",
       "            }\n",
       "        }\n",
       "    }, [\n",
       "        \"js9\",\n",
       "    ], function(JS9){\n",
       "        // the timeout is needed because there are some assumptions about load order and timing\n",
       "        setTimeout(function(){\n",
       "            JS9.Load(\"http://js9.si.edu/js9/png/casa.png\");\n",
       "        }, 1000);\n",
       "    })\n",
       "</script>"
      ],
      "text/plain": [
       "<IPython.core.display.HTML object>"
      ]
     },
     "metadata": {},
     "output_type": "display_data"
    }
   ],
   "source": [
    "%%html\n",
    "<script>\n",
    "    requirejs({\n",
    "        paths: {\n",
    "            js9: \"//js9.si.edu/js9/js9-allinone\",\n",
    "        },\n",
    "        shim: {\n",
    "            js9: {\n",
    "                exports: \"JS9\"\n",
    "            }\n",
    "        }\n",
    "    }, [\n",
    "        \"js9\",\n",
    "    ], function(JS9){\n",
    "        // the timeout is needed because there are some assumptions about load order and timing\n",
    "        setTimeout(function(){\n",
    "            JS9.Load(\"http://js9.si.edu/js9/png/casa.png\");\n",
    "        }, 1000);\n",
    "    })\n",
    "</script>"
   ]
  },
  {
   "cell_type": "code",
   "execution_count": null,
   "metadata": {
    "collapsed": true
   },
   "outputs": [],
   "source": []
  }
 ],
 "metadata": {
  "kernelspec": {
   "display_name": "Python 2",
   "language": "python",
   "name": "python2"
  },
  "language_info": {
   "codemirror_mode": {
    "name": "ipython",
    "version": 2
   },
   "file_extension": ".py",
   "mimetype": "text/x-python",
   "name": "python",
   "nbconvert_exporter": "python",
   "pygments_lexer": "ipython2",
   "version": "2.7.10"
  }
 },
 "nbformat": 4,
 "nbformat_minor": 0
}
