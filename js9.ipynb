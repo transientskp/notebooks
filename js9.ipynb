{
 "cells": [
  {
   "cell_type": "markdown",
   "metadata": {},
   "source": [
    "# JS9 in IPython notebooks\n",
    "This shows how JS9 should work in IPython notebooks. Under development."
   ]
  },
  {
   "cell_type": "code",
   "execution_count": 1,
   "metadata": {
    "collapsed": false
   },
   "outputs": [
    {
     "data": {
      "text/html": [
       "<div class=\"JS9Menubar\"></div>\n",
       "<div class=\"JS9\" id=\"JS9\"></div>\n",
       "<style>\n",
       "    @import(\"//js9.si.edu/js9/js9-allinone.css\");\n",
       "</style>"
      ],
      "text/plain": [
       "<IPython.core.display.HTML object>"
      ]
     },
     "metadata": {},
     "output_type": "display_data"
    }
   ],
   "source": [
    "%%html\n",
    "<div class=\"JS9Menubar\"></div>\n",
    "<div class=\"JS9\" id=\"JS9\"></div>\n",
    "<style>\n",
    "    @import(\"//js9.si.edu/js9/js9-allinone.css\");\n",
    "</style>"
   ]
  },
  {
   "cell_type": "code",
   "execution_count": 2,
   "metadata": {
    "collapsed": false
   },
   "outputs": [
    {
     "data": {
      "text/html": [
       "<script>\n",
       "    requirejs({\n",
       "        paths: {\n",
       "            js9: \"//js9.si.edu/js9/js9-allinone\",\n",
       "        },\n",
       "        shim: {\n",
       "            js9: {\n",
       "                exports: \"JS9\"\n",
       "            }\n",
       "        }\n",
       "    }, [\n",
       "        \"js9\",\n",
       "    ], function(JS9){\n",
       "        // the timeout is needed because there are some assumptions about load order and timing\n",
       "        setTimeout(function(){\n",
       "            JS9.Load(\"http://js9.si.edu/js9/png/casa.png\");\n",
       "        }, 1000);\n",
       "    })\n",
       "</script>"
      ],
      "text/plain": [
       "<IPython.core.display.HTML object>"
      ]
     },
     "metadata": {},
     "output_type": "display_data"
    }
   ],
   "source": [
    "%%html\n",
    "<script>\n",
    "    requirejs({\n",
    "        paths: {\n",
    "            js9: \"//js9.si.edu/js9/js9-allinone\",\n",
    "        },\n",
    "        shim: {\n",
    "            js9: {\n",
    "                exports: \"JS9\"\n",
    "            }\n",
    "        }\n",
    "    }, [\n",
    "        \"js9\",\n",
    "    ], function(JS9){\n",
    "        // the timeout is needed because there are some assumptions about load order and timing\n",
    "        setTimeout(function(){\n",
    "            JS9.Load(\"http://js9.si.edu/js9/png/casa.png\");\n",
    "        }, 1000);\n",
    "    })\n",
    "</script>"
   ]
  },
  {
   "cell_type": "markdown",
   "metadata": {
    "collapsed": true
   },
   "source": [
    "Previous errors are gone, the socket.io error you can savely ignore if you are not using server side computing. I'm getting a new error now though, `Uncaught TypeError: JS9.Load is not a function`. Probably i'm not using requirejs properly, going to read about this now."
   ]
  }
 ],
 "metadata": {
  "kernelspec": {
   "display_name": "Python 2",
   "language": "python",
   "name": "python2"
  },
  "language_info": {
   "codemirror_mode": {
    "name": "ipython",
    "version": 2
   },
   "file_extension": ".py",
   "mimetype": "text/x-python",
   "name": "python",
   "nbconvert_exporter": "python",
   "pygments_lexer": "ipython2",
   "version": "2.7.11+"
  }
 },
 "nbformat": 4,
 "nbformat_minor": 0
}
