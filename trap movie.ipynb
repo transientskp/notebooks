{
 "cells": [
  {
   "cell_type": "markdown",
   "metadata": {},
   "source": [
    "# Extract all images from a TraP dataset with extracted sources as overlay"
   ]
  },
  {
   "cell_type": "markdown",
   "metadata": {},
   "source": [
    "When executed it will try to download all images from the dataset, plot them with aply, overlay extracted sources and writes it as a set of png files to disk inside the configured output folder. You can copy the database and image cache settings from your pipeline config.\n",
    "\n",
    "For this you need:\n",
    "\n",
    "pip install astropy APLpy pymongo matplotlib\n",
    "\n",
    "and install TKP 3.0 (not released yet)"
   ]
  },
  {
   "cell_type": "code",
   "execution_count": null,
   "metadata": {
    "collapsed": false
   },
   "outputs": [],
   "source": [
    "import matplotlib\n",
    "\n",
    "\n",
    "# remove this inline statement to stop the previews in the notebook\n",
    "%matplotlib inline\n",
    "#matplotlib.use('Agg')\n",
    "\n",
    "import logging\n",
    "from tkp.db.model import Image, Extractedsource\n",
    "from tkp.db import Database\n",
    "from pymongo import MongoClient\n",
    "from gridfs import GridFS\n",
    "from astropy.io import fits\n",
    "from astropy import log as astrolog\n",
    "from matplotlib import pyplot\n",
    "from aplpy import FITSFigure\n",
    "import os\n"
   ]
  },
  {
   "cell_type": "markdown",
   "metadata": {},
   "source": [
    "## general settings"
   ]
  },
  {
   "cell_type": "code",
   "execution_count": null,
   "metadata": {
    "collapsed": true
   },
   "outputs": [],
   "source": [
    "# colors for the extracted types\n",
    "#  0: blind fit, 1: forced fit, 2: manual monitoring\n",
    "source_colors = ['red', 'lightgreen', 'cyan']\n",
    "\n",
    "loglevel = logging.WARNING  # Set to INFO to see queries, otherwise WARNING\n",
    "\n",
    "image_size = 10\n",
    "\n",
    "output_folder = 'output'"
   ]
  },
  {
   "cell_type": "markdown",
   "metadata": {},
   "source": [
    "## Database settings"
   ]
  },
  {
   "cell_type": "code",
   "execution_count": null,
   "metadata": {
    "collapsed": true
   },
   "outputs": [],
   "source": [
    "engine = 'postgresql'\n",
    "host = 'localhost'\n",
    "port = 5432\n",
    "user = 'gijs'\n",
    "password = 'gijs'\n",
    "database = 'gijs'\n",
    "dataset_id = 2\n"
   ]
  },
  {
   "cell_type": "markdown",
   "metadata": {},
   "source": [
    "## Image cache settings"
   ]
  },
  {
   "cell_type": "code",
   "execution_count": null,
   "metadata": {
    "collapsed": true
   },
   "outputs": [],
   "source": [
    "mongo_host = \"localhost\"\n",
    "mongo_port = 27017\n",
    "mongo_db = \"tkp\""
   ]
  },
  {
   "cell_type": "markdown",
   "metadata": {},
   "source": [
    "## Now lets get funky"
   ]
  },
  {
   "cell_type": "code",
   "execution_count": null,
   "metadata": {
    "collapsed": true
   },
   "outputs": [],
   "source": [
    "# configure loging\n",
    "logging.getLogger('sqlalchemy.engine').setLevel(loglevel)\n",
    "astrolog.setLevel(loglevel)"
   ]
  },
  {
   "cell_type": "code",
   "execution_count": null,
   "metadata": {
    "collapsed": true
   },
   "outputs": [],
   "source": [
    "# make output folder if it doesn't exists\n",
    "if not os.access(output_folder, os.X_OK):\n",
    "    os.mkdir(output_folder)"
   ]
  },
  {
   "cell_type": "code",
   "execution_count": null,
   "metadata": {
    "collapsed": false
   },
   "outputs": [],
   "source": [
    "# connect to the databases\n",
    "db = Database(engine=engine, host=host, port=port, user=user,\n",
    "              password=password, database=database)\n",
    "db.connect()\n",
    "session = db.Session()\n",
    "mongo_connection = MongoClient(mongo_host, mongo_port)\n",
    "gfs = GridFS(mongo_connection[mongo_db])"
   ]
  },
  {
   "cell_type": "code",
   "execution_count": null,
   "metadata": {
    "collapsed": false
   },
   "outputs": [],
   "source": [
    "# get all images from the database that belong to a databse, sorted by starttime\n",
    "images = session.query(Image).filter(Image.dataset_id==dataset_id).order_by(Image.taustart_ts).all()"
   ]
  },
  {
   "cell_type": "code",
   "execution_count": null,
   "metadata": {
    "collapsed": false
   },
   "outputs": [],
   "source": [
    "# open the files\n",
    "fitss = [fits.open(gfs.get_last_version(i.url)) for i in images]\n",
    "fitss = [setattr(f, 'closed', False) for f in fitss]"
   ]
  },
  {
   "cell_type": "code",
   "execution_count": null,
   "metadata": {
    "collapsed": false
   },
   "outputs": [],
   "source": [
    "# get the sources for all images\n",
    "sourcess = [session.query(Extractedsource).filter(Extractedsource.image==image).all() for image in images]"
   ]
  },
  {
   "cell_type": "code",
   "execution_count": null,
   "metadata": {
    "collapsed": false
   },
   "outputs": [],
   "source": [
    "combined = zip(images, fitss, sourcess)\n",
    "for index, (image, fits, sources) in enumerate(combined):\n",
    "    fig = pyplot.figure(figsize=(image_size, image_size))\n",
    "    plot = FITSFigure(fits, subplot=[0, 0, 1, 1], figure=fig)\n",
    "    \n",
    "    # so here you can tweak the scale if you want, maybe change contrast or color schema\n",
    "    #\n",
    "    # http://aplpy.readthedocs.org/en/stable/normalize.html\n",
    "    #\n",
    "    plot.show_grayscale(stretch='sqrt')\n",
    "    #plot.show_colorscale(stretch='sqrt')\n",
    "    \n",
    "    # you probably don't want to change this\n",
    "    plot.axis_labels.hide()\n",
    "    plot.tick_labels.hide()\n",
    "    plot.ticks.hide()\n",
    "    ra = [source.ra for source in sources]\n",
    "    dec = [source.decl for source in sources]\n",
    "    semimajor = [source.semimajor / 900 for source in sources]\n",
    "    semiminor = [source.semiminor / 900 for source in sources]\n",
    "    pa = [source.pa + 90 for source in sources]\n",
    "\n",
    "    # this adds the extracted sources, you can configure the colors with the settings above\n",
    "    color = [source_colors[source.extract_type] for source in sources]\n",
    "    plot.show_ellipses(ra, dec, semimajor, semiminor, pa, facecolor='none',\n",
    "                       edgecolor=color, linewidth=2)\n",
    "    \n",
    "    # you can change the bottom text here\n",
    "    plot.add_label(.23, .02, image.url.split('/')[-1], relative=True, color='white')\n",
    "    plot.save(os.path.join(output_folder, str(index) + '.png'))"
   ]
  }
 ],
 "metadata": {
  "kernelspec": {
   "display_name": "Python 2",
   "language": "python",
   "name": "python2"
  },
  "language_info": {
   "codemirror_mode": {
    "name": "ipython",
    "version": 2
   },
   "file_extension": ".py",
   "mimetype": "text/x-python",
   "name": "python",
   "nbconvert_exporter": "python",
   "pygments_lexer": "ipython2",
   "version": "2.7.11+"
  }
 },
 "nbformat": 4,
 "nbformat_minor": 0
}
