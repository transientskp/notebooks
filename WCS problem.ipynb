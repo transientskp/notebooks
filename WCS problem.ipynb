{
 "cells": [
  {
   "cell_type": "code",
   "execution_count": 1,
   "metadata": {
    "collapsed": true
   },
   "outputs": [],
   "source": [
    "import pywcs"
   ]
  },
  {
   "cell_type": "code",
   "execution_count": 2,
   "metadata": {
    "collapsed": false
   },
   "outputs": [],
   "source": [
    "wcs = pywcs.WCS(naxis=2)\n",
    "wcs.wcs.crval = [-0.00113526,  0.91886109]\n",
    "wcs.wcs.crpix = [ 512.,  512.]\n",
    "wcs.wcs.cdelt = [ 0.00195722,  0.00195722]\n",
    "wcs.wcs.ctype = (\"RA---SIN\", \"DEC--SIN\")\n",
    "wcs.wcs.crota = (0., 0.)\n",
    "wcs.wcs.cunit = ['rad', 'rad']\n"
   ]
  },
  {
   "cell_type": "code",
   "execution_count": 3,
   "metadata": {
    "collapsed": false
   },
   "outputs": [],
   "source": [
    "x = 194.\n",
    "y = 533."
   ]
  },
  {
   "cell_type": "code",
   "execution_count": 4,
   "metadata": {
    "collapsed": false
   },
   "outputs": [
    {
     "data": {
      "text/plain": [
       "[array([-54.71126711]), array([ 40.26005709])]"
      ]
     },
     "execution_count": 4,
     "metadata": {},
     "output_type": "execute_result"
    }
   ],
   "source": [
    "wcs.wcs_pix2sky(x, y, 1)"
   ]
  },
  {
   "cell_type": "code",
   "execution_count": 5,
   "metadata": {
    "collapsed": false
   },
   "outputs": [
    {
     "name": "stdout",
     "output_type": "stream",
     "text": [
      "WCS Keywords\n",
      "\n",
      "CRVAL    : -0.065045606650021834 52.646862415790494\n",
      "CRPIX    : 512.0 512.0\n",
      "NAXIS    : 0.0 0.0\n"
     ]
    }
   ],
   "source": [
    "wcs.printwcs()"
   ]
  }
 ],
 "metadata": {
  "kernelspec": {
   "display_name": "Python 2",
   "language": "python",
   "name": "python2"
  },
  "language_info": {
   "codemirror_mode": {
    "name": "ipython",
    "version": 2
   },
   "file_extension": ".py",
   "mimetype": "text/x-python",
   "name": "python",
   "nbconvert_exporter": "python",
   "pygments_lexer": "ipython2",
   "version": "2.7.9"
  }
 },
 "nbformat": 4,
 "nbformat_minor": 0
}
