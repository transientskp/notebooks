{
 "cells": [
  {
   "cell_type": "markdown",
   "metadata": {},
   "source": [
    "# ArXiv parser\n",
    "This is an example how to query and parse Arxiv for articles.\n",
    "\n",
    "original taken from\n",
    "https://arxiv.org/help/api/examples/python_arXiv_parsing_example.txt\n",
    "\n",
    "API is documented here\n",
    "http://arxiv.org/help/api/user-manual"
   ]
  },
  {
   "cell_type": "markdown",
   "metadata": {},
   "source": [
    "# Search parameters"
   ]
  },
  {
   "cell_type": "code",
   "execution_count": null,
   "metadata": {
    "collapsed": true
   },
   "outputs": [],
   "source": [
    "# to get latest publications\n",
    "#search_query = 'astro-ph'\n",
    "\n",
    "# or search for a specfic term\n",
    "search_query = 'all:docker' \n",
    "\n",
    "sortBy = 'lastUpdatedDate' # can be relevance, lastUpdatedDate, submittedDate\n",
    "sortOrder = 'descending'    # can be either ascending or descending\n",
    "\n",
    "# retreive the first 5 results\n",
    "start = 0                     \n",
    "max_results = 10"
   ]
  },
  {
   "cell_type": "markdown",
   "metadata": {},
   "source": [
    "# The code"
   ]
  },
  {
   "cell_type": "code",
   "execution_count": null,
   "metadata": {
    "collapsed": true
   },
   "outputs": [],
   "source": [
    "import urllib\n",
    "import feedparser\n",
    "import pandas as pd"
   ]
  },
  {
   "cell_type": "code",
   "execution_count": null,
   "metadata": {
    "collapsed": false
   },
   "outputs": [],
   "source": [
    "# Base api query url. Probable no need to change\n",
    "base_url = 'http://export.arxiv.org/api/query?';\n",
    "\n",
    "fields = ('search_query','start','max_results', 'sortBy', 'sortOrder')\n",
    "query = '&'.join([f + '=' + str(globals()[f]) for f in fields])\n"
   ]
  },
  {
   "cell_type": "code",
   "execution_count": null,
   "metadata": {
    "collapsed": false
   },
   "outputs": [],
   "source": [
    "# Opensearch metadata such as totalResults, startIndex, \n",
    "# and itemsPerPage live in the opensearch namespase.\n",
    "# Some entry metadata lives in the arXiv namespace.\n",
    "# This is a hack to expose both of these namespaces in\n",
    "# feedparser v4.1\n",
    "feedparser._FeedParserMixin.namespaces['http://a9.com/-/spec/opensearch/1.1/'] = 'opensearch'\n",
    "feedparser._FeedParserMixin.namespaces['http://arxiv.org/schemas/atom'] = 'arxiv'\n",
    "\n",
    "# perform a GET request using the base_url and query\n",
    "response = urllib.urlopen(base_url+query).read()\n",
    "\n",
    "# parse the response using feedparser\n",
    "feed = feedparser.parse(response)"
   ]
  },
  {
   "cell_type": "code",
   "execution_count": null,
   "metadata": {
    "collapsed": false
   },
   "outputs": [],
   "source": [
    "# print out feed information\n",
    "print 'Feed title: %s' % feed.feed.title\n",
    "print 'Feed last updated: %s' % feed.feed.updated"
   ]
  },
  {
   "cell_type": "code",
   "execution_count": null,
   "metadata": {
    "collapsed": false
   },
   "outputs": [],
   "source": [
    "# print opensearch metadata\n",
    "print 'totalResults for this query: %s' % feed.feed.opensearch_totalresults\n",
    "print 'itemsPerPage for this query: %s' % feed.feed.opensearch_itemsperpage\n",
    "print 'startIndex for this query: %s'   % feed.feed.opensearch_startindex"
   ]
  },
  {
   "cell_type": "code",
   "execution_count": null,
   "metadata": {
    "collapsed": true
   },
   "outputs": [],
   "source": [
    "rows = []"
   ]
  },
  {
   "cell_type": "code",
   "execution_count": null,
   "metadata": {
    "collapsed": false
   },
   "outputs": [],
   "source": [
    "# Run through each entry, and print out information\n",
    "for entry in feed.entries:\n",
    "    row = {}\n",
    "    row['arxiv-id'] = entry.id.split('/abs/')[-1]\n",
    "    row['Published'] = entry.published\n",
    "    row['Title'] = entry.title\n",
    "    \n",
    "    row['Last Author'] = entry.author\n",
    "                                             \n",
    "    if 'arxiv_affiliation' in entry:\n",
    "         row['Last Author'] += ' (%s)' % entry.arxiv_affiliation                            \n",
    "    \n",
    "    row['Authors'] = ', '.join(author.get('name', '?') for author in entry.get('authors', []))\n",
    "\n",
    "    # get the links to the abs page and pdf for this e-print\n",
    "    for link in entry.links:\n",
    "        if link.rel == 'alternate':\n",
    "            row['page'] = link.href\n",
    "        elif link.title == 'pdf':\n",
    "            row['pdf'] = link.href\n",
    "    \n",
    "    # The journal reference, comments and primary_category sections live under \n",
    "    # the arxiv namespace\n",
    "    row['journal_ref'] = entry.get('arxiv_journal_ref',  '-')\n",
    "    \n",
    "    row['Comments'] = entry.get('arxiv_comment',  '-')\n",
    "    \n",
    "    # Since the <arxiv:primary_category> element has no data, only\n",
    "    # attributes, feedparser does not store anything inside\n",
    "    # entry.arxiv_primary_category\n",
    "    # This is a dirty hack to get the primary_category, just take the\n",
    "    # first element in entry.tags.  If anyone knows a better way to do\n",
    "    # this, please email the list!\n",
    "    row['Primary Category'] = entry.tags[0]['term']\n",
    "    \n",
    "    # Lets get all the categories\n",
    "    all_categories = [t['term'] for t in entry.tags]\n",
    "    row['All Categories'] =  ', '.join(all_categories)\n",
    "    \n",
    "    # The abstract is in the <summary> element\n",
    "    row['Abstract'] = entry.summary\n",
    "    rows.append(row)"
   ]
  },
  {
   "cell_type": "code",
   "execution_count": null,
   "metadata": {
    "collapsed": false
   },
   "outputs": [],
   "source": [
    "pd.DataFrame(rows)"
   ]
  }
 ],
 "metadata": {
  "kernelspec": {
   "display_name": "Python 2",
   "language": "python",
   "name": "python2"
  },
  "language_info": {
   "codemirror_mode": {
    "name": "ipython",
    "version": 2
   },
   "file_extension": ".py",
   "mimetype": "text/x-python",
   "name": "python",
   "nbconvert_exporter": "python",
   "pygments_lexer": "ipython2",
   "version": "2.7.11+"
  }
 },
 "nbformat": 4,
 "nbformat_minor": 0
}
