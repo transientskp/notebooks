{
 "cells": [
  {
   "cell_type": "code",
   "execution_count": 1,
   "metadata": {
    "collapsed": true
   },
   "outputs": [],
   "source": [
    "import tkp.db  # NOTE: this only works with the queryqueue branch of TraP\n",
    "import logging\n",
    "from tkp.db.model import Dataset, Assocxtrsource, Extractedsource, Runningcatalog, Image\n",
    "from sqlalchemy.orm import aliased\n",
    "from sqlalchemy.sql.functions import max\n",
    "from sqlalchemy.sql.expression import select\n",
    "\n",
    "logging.basicConfig()"
   ]
  },
  {
   "cell_type": "markdown",
   "metadata": {},
   "source": [
    "### Database connection settings"
   ]
  },
  {
   "cell_type": "code",
   "execution_count": 2,
   "metadata": {
    "collapsed": false
   },
   "outputs": [],
   "source": [
    "engine = 'postgresql'\n",
    "host = 'localhost'\n",
    "port = 5433\n",
    "user = 'gijs'\n",
    "password = user\n",
    "database = user\n",
    "query_loglevel = logging.INFO  # Set to INFO to see queries, otherwise WARNING"
   ]
  },
  {
   "cell_type": "markdown",
   "metadata": {},
   "source": [
    "### connect to the database"
   ]
  },
  {
   "cell_type": "code",
   "execution_count": 3,
   "metadata": {
    "collapsed": false
   },
   "outputs": [
    {
     "name": "stderr",
     "output_type": "stream",
     "text": [
      "INFO:sqlalchemy.engine.base.Engine:select version()\n",
      "INFO:sqlalchemy.engine.base.Engine:{}\n",
      "INFO:sqlalchemy.engine.base.Engine:select current_schema()\n",
      "INFO:sqlalchemy.engine.base.Engine:{}\n",
      "INFO:sqlalchemy.engine.base.Engine:SELECT CAST('test plain returns' AS VARCHAR(60)) AS anon_1\n",
      "INFO:sqlalchemy.engine.base.Engine:{}\n",
      "INFO:sqlalchemy.engine.base.Engine:SELECT CAST('test unicode returns' AS VARCHAR(60)) AS anon_1\n",
      "INFO:sqlalchemy.engine.base.Engine:{}\n",
      "INFO:sqlalchemy.engine.base.Engine:show standard_conforming_strings\n",
      "INFO:sqlalchemy.engine.base.Engine:{}\n"
     ]
    }
   ],
   "source": [
    "logging.getLogger('sqlalchemy.engine').setLevel(query_loglevel)\n",
    "db = tkp.db.Database(engine=engine, host=host, port=port\n",
    "                     user=user, password=password, database=database)\n",
    "db.connect()\n",
    "session = db.Session()"
   ]
  },
  {
   "cell_type": "markdown",
   "metadata": {},
   "source": [
    "### Execute the query"
   ]
  },
  {
   "cell_type": "code",
   "execution_count": 4,
   "metadata": {
    "collapsed": false
   },
   "outputs": [
    {
     "ename": "NameError",
     "evalue": "name 'r_1' is not defined",
     "output_type": "error",
     "traceback": [
      "\u001b[1;31m---------------------------------------------------------------------------\u001b[0m",
      "\u001b[1;31mNameError\u001b[0m                                 Traceback (most recent call last)",
      "\u001b[1;32m<ipython-input-4-56b63ab2927b>\u001b[0m in \u001b[0;36m<module>\u001b[1;34m()\u001b[0m\n\u001b[0;32m      3\u001b[0m \u001b[0ma_2\u001b[0m \u001b[1;33m=\u001b[0m \u001b[0maliased\u001b[0m\u001b[1;33m(\u001b[0m\u001b[0mAssocxtrsource\u001b[0m\u001b[1;33m,\u001b[0m \u001b[0mname\u001b[0m\u001b[1;33m=\u001b[0m\u001b[1;34m'a_2'\u001b[0m\u001b[1;33m)\u001b[0m\u001b[1;33m\u001b[0m\u001b[0m\n\u001b[0;32m      4\u001b[0m \u001b[0me_1\u001b[0m \u001b[1;33m=\u001b[0m \u001b[0maliased\u001b[0m\u001b[1;33m(\u001b[0m\u001b[0mExtractedsource\u001b[0m\u001b[1;33m,\u001b[0m \u001b[0mname\u001b[0m\u001b[1;33m=\u001b[0m\u001b[1;34m'e_1'\u001b[0m\u001b[1;33m)\u001b[0m\u001b[1;33m\u001b[0m\u001b[0m\n\u001b[1;32m----> 5\u001b[1;33m \u001b[0mlast_ts_per_band\u001b[0m \u001b[1;33m=\u001b[0m \u001b[0msession\u001b[0m\u001b[1;33m.\u001b[0m\u001b[0mquery\u001b[0m\u001b[1;33m(\u001b[0m\u001b[0mmax\u001b[0m\u001b[1;33m(\u001b[0m\u001b[0ma_2\u001b[0m\u001b[1;33m.\u001b[0m\u001b[0mid\u001b[0m\u001b[1;33m)\u001b[0m\u001b[1;33m.\u001b[0m\u001b[0mlabel\u001b[0m\u001b[1;33m(\u001b[0m\u001b[1;34m'assoc_id'\u001b[0m\u001b[1;33m)\u001b[0m\u001b[1;33m)\u001b[0m\u001b[1;33m.\u001b[0m        \u001b[0mjoin\u001b[0m\u001b[1;33m(\u001b[0m\u001b[0mr_1\u001b[0m\u001b[1;33m,\u001b[0m \u001b[0ma_2\u001b[0m\u001b[1;33m.\u001b[0m\u001b[0mruncat\u001b[0m\u001b[1;33m==\u001b[0m\u001b[0mr_1\u001b[0m\u001b[1;33m.\u001b[0m\u001b[0mid\u001b[0m\u001b[1;33m)\u001b[0m\u001b[1;33m.\u001b[0m        \u001b[0mjoin\u001b[0m\u001b[1;33m(\u001b[0m\u001b[0me_2\u001b[0m\u001b[1;33m,\u001b[0m \u001b[0ma_2\u001b[0m\u001b[1;33m.\u001b[0m\u001b[0mxtrsrc\u001b[0m\u001b[1;33m==\u001b[0m\u001b[0me_2\u001b[0m\u001b[1;33m.\u001b[0m\u001b[0mid\u001b[0m\u001b[1;33m)\u001b[0m\u001b[1;33m.\u001b[0m        \u001b[0mjoin\u001b[0m\u001b[1;33m(\u001b[0m\u001b[0mi_2\u001b[0m\u001b[1;33m,\u001b[0m \u001b[0me_2\u001b[0m\u001b[1;33m.\u001b[0m\u001b[0mimage\u001b[0m\u001b[1;33m==\u001b[0m\u001b[0mi_2\u001b[0m\u001b[1;33m.\u001b[0m\u001b[0mid\u001b[0m\u001b[1;33m)\u001b[0m\u001b[1;33m.\u001b[0m        \u001b[0mgroup_by\u001b[0m\u001b[1;33m(\u001b[0m\u001b[0mr_1\u001b[0m\u001b[1;33m.\u001b[0m\u001b[0mid\u001b[0m\u001b[1;33m,\u001b[0m \u001b[0mi_2\u001b[0m\u001b[1;33m.\u001b[0m\u001b[0mid\u001b[0m\u001b[1;33m)\u001b[0m\u001b[1;33m.\u001b[0m        \u001b[0msubquery\u001b[0m\u001b[1;33m(\u001b[0m\u001b[0mname\u001b[0m\u001b[1;33m=\u001b[0m\u001b[1;34m'last_ts_per_band'\u001b[0m\u001b[1;33m)\u001b[0m\u001b[1;33m\u001b[0m\u001b[0m\n\u001b[0m\u001b[0;32m      6\u001b[0m \u001b[1;33m\u001b[0m\u001b[0m\n\u001b[0;32m      7\u001b[0m \u001b[1;33m\u001b[0m\u001b[0m\n",
      "\u001b[1;31mNameError\u001b[0m: name 'r_1' is not defined"
     ]
    }
   ],
   "source": [
    "# maximum timestamps per runcat and band\n",
    "a_1 = aliased(Assocxtrsource, name='a_1')\n",
    "a_2 = aliased(Assocxtrsource, name='a_2')\n",
    "e_1 = aliased(Extractedsource, name='e_1')\n",
    "last_ts_per_band = session.query(max(a_2.id).label('assoc_id')).\\\n",
    "        join(r_1, a_2.runcat==r_1.id).\\\n",
    "        join(e_2, a_2.xtrsrc==e_2.id).\\\n",
    "        join(i_2, e_2.image==i_2.id).\\\n",
    "        group_by(r_1.id, i_2.id).\\\n",
    "        subquery(name='last_ts_per_band')\n",
    "\n",
    "        \n",
    "        \n",
    "# Select peak flux per runcat at last timestep (over all bands) \n",
    "a_1 = aliased(Assocxtrsource, name='a_1')\n",
    "a_2 = aliased(Assocxtrsource, name='a_2')\n",
    "e_1 = aliased(Extractedsource, name='e_1')\n",
    "last_ts_fmax = session.query(last_ts_per_band).\\\n",
    "        join(a_1, a_1.id==last_ts_per_band.c.assoc_id).\\\n",
    "        join(e_1,  a_1.xtrsrc==e_1.id).\\\n",
    "        group_by(a_1.runcat).\\\n",
    "        subquery(name='last_ts_fmax')\n",
    "\n",
    "        \n",
    "match_assoc = aliased(Assocxtrsource, name='match_assoc')\n",
    "match_ex = aliased(Extractedsource, name='match_ex')\n",
    "r = aliased(Runningcatalog, name='r')\n",
    "match_img = aliased(Image, name='match_img')\n",
    "query = session.query(last_ts_fmax).\\\n",
    "        join(match_assoc, match_assoc.runcat==last_ts_fmax.c.runcat_id).\\\n",
    "        join(match_ex,\n",
    "             match_assoc.xtrsrc==match_ex.id and \n",
    "             match_ex.f_int==last_ts_fmax.max_flux).\\\n",
    "        join(r, r.id==last_ts_fmax.runcat_id).\\\n",
    "        join(match_img, match_ex.image==match_img.id).\\\n",
    "        subquery()\n",
    "\n",
    "print(query)"
   ]
  },
  {
   "cell_type": "code",
   "execution_count": null,
   "metadata": {
    "collapsed": true
   },
   "outputs": [],
   "source": []
  }
 ],
 "metadata": {
  "kernelspec": {
   "display_name": "Python 2",
   "language": "python",
   "name": "python2"
  },
  "language_info": {
   "codemirror_mode": {
    "name": "ipython",
    "version": 2
   },
   "file_extension": ".py",
   "mimetype": "text/x-python",
   "name": "python",
   "nbconvert_exporter": "python",
   "pygments_lexer": "ipython2",
   "version": "2.7.9"
  }
 },
 "nbformat": 4,
 "nbformat_minor": 0
}
