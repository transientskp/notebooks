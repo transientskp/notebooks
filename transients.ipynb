{
 "cells": [
  {
   "cell_type": "code",
   "execution_count": 1,
   "metadata": {
    "collapsed": false
   },
   "outputs": [],
   "source": [
    "%load_ext autoreload\n",
    "%autoreload 2\n",
    "\n",
    "import tkp.db  # NOTE: this only works with the queryqueue branch of TraP\n",
    "import logging\n",
    "\n",
    "import tkp.db.api\n",
    "from pandas import DataFrame\n",
    "\n",
    "logging.basicConfig(level=logging.INFO)"
   ]
  },
  {
   "cell_type": "markdown",
   "metadata": {},
   "source": [
    "### Database connection settings"
   ]
  },
  {
   "cell_type": "code",
   "execution_count": 2,
   "metadata": {
    "collapsed": false
   },
   "outputs": [],
   "source": [
    "engine = 'postgresql'\n",
    "host = 'localhost'\n",
    "port = 5433\n",
    "user = 'gijs'\n",
    "password = user\n",
    "database = user\n",
    "query_loglevel = logging.WARNING  # Set to INFO to see queries, otherwise WARNING"
   ]
  },
  {
   "cell_type": "markdown",
   "metadata": {},
   "source": [
    "### connect to the database"
   ]
  },
  {
   "cell_type": "code",
   "execution_count": 3,
   "metadata": {
    "collapsed": false
   },
   "outputs": [],
   "source": [
    "logging.getLogger('sqlalchemy.engine').setLevel(query_loglevel)\n",
    "db = tkp.db.Database(engine=engine, host=host, port=port,\n",
    "                     user=user, password=password, database=database)\n",
    "db.connect()\n",
    "session = db.Session()"
   ]
  },
  {
   "cell_type": "markdown",
   "metadata": {},
   "source": [
    "### Execute the query"
   ]
  },
  {
   "cell_type": "code",
   "execution_count": 8,
   "metadata": {
    "collapsed": false
   },
   "outputs": [
    {
     "data": {
      "text/html": [
       "<div>\n",
       "<table border=\"1\" class=\"dataframe\">\n",
       "  <thead>\n",
       "    <tr style=\"text-align: right;\">\n",
       "      <th></th>\n",
       "      <th>id</th>\n",
       "      <th>ra</th>\n",
       "      <th>decl</th>\n",
       "      <th>wm_uncertainty_ew</th>\n",
       "      <th>wm_uncertainty_ns</th>\n",
       "      <th>xtrsrc</th>\n",
       "      <th>dataset_id</th>\n",
       "      <th>datapoints</th>\n",
       "      <th>v_int</th>\n",
       "      <th>eta_int</th>\n",
       "      <th>band</th>\n",
       "      <th>newsource</th>\n",
       "      <th>sigma_rms_max</th>\n",
       "      <th>sigma_rms_min</th>\n",
       "      <th>lightcurve_max</th>\n",
       "      <th>lightcurve_avg</th>\n",
       "      <th>lightcurve_median</th>\n",
       "    </tr>\n",
       "  </thead>\n",
       "  <tbody>\n",
       "    <tr>\n",
       "      <th>0</th>\n",
       "      <td>32</td>\n",
       "      <td>1</td>\n",
       "      <td>1</td>\n",
       "      <td>1</td>\n",
       "      <td>1</td>\n",
       "      <td>311</td>\n",
       "      <td>1494</td>\n",
       "      <td>1</td>\n",
       "      <td>0</td>\n",
       "      <td>0</td>\n",
       "      <td>1507</td>\n",
       "      <td>32</td>\n",
       "      <td>None</td>\n",
       "      <td>None</td>\n",
       "      <td>0.01</td>\n",
       "      <td>0.01</td>\n",
       "      <td>0.01</td>\n",
       "    </tr>\n",
       "    <tr>\n",
       "      <th>1</th>\n",
       "      <td>31</td>\n",
       "      <td>1</td>\n",
       "      <td>1</td>\n",
       "      <td>1</td>\n",
       "      <td>1</td>\n",
       "      <td>301</td>\n",
       "      <td>1494</td>\n",
       "      <td>1</td>\n",
       "      <td>0</td>\n",
       "      <td>0</td>\n",
       "      <td>1506</td>\n",
       "      <td>31</td>\n",
       "      <td>None</td>\n",
       "      <td>None</td>\n",
       "      <td>0.01</td>\n",
       "      <td>0.01</td>\n",
       "      <td>0.01</td>\n",
       "    </tr>\n",
       "  </tbody>\n",
       "</table>\n",
       "</div>"
      ],
      "text/plain": [
       "   id  ra  decl  wm_uncertainty_ew  wm_uncertainty_ns  xtrsrc  dataset_id  \\\n",
       "0  32   1     1                  1                  1     311        1494   \n",
       "1  31   1     1                  1                  1     301        1494   \n",
       "\n",
       "   datapoints  v_int  eta_int  band  newsource sigma_rms_max sigma_rms_min  \\\n",
       "0           1      0        0  1507         32          None          None   \n",
       "1           1      0        0  1506         31          None          None   \n",
       "\n",
       "   lightcurve_max  lightcurve_avg  lightcurve_median  \n",
       "0            0.01            0.01               0.01  \n",
       "1            0.01            0.01               0.01  "
      ]
     },
     "execution_count": 8,
     "metadata": {},
     "output_type": "execute_result"
    }
   ],
   "source": [
    "transient_query = tkp.db.api.transients(session, dataset=tkp.db.model.Dataset(id=1494))\n",
    "columns = [c['name'] for c in transient_query.column_descriptions]\n",
    "df = DataFrame(transient_query.all(), columns=columns)\n",
    "df"
   ]
  }
 ],
 "metadata": {
  "kernelspec": {
   "display_name": "Python 2",
   "language": "python",
   "name": "python2"
  },
  "language_info": {
   "codemirror_mode": {
    "name": "ipython",
    "version": 2
   },
   "file_extension": ".py",
   "mimetype": "text/x-python",
   "name": "python",
   "nbconvert_exporter": "python",
   "pygments_lexer": "ipython2",
   "version": "2.7.9"
  }
 },
 "nbformat": 4,
 "nbformat_minor": 0
}
