{
 "cells": [
  {
   "cell_type": "markdown",
   "metadata": {},
   "source": [
    "# Reject images in a database given the global RMS stats\n"
   ]
  },
  {
   "cell_type": "code",
   "execution_count": 35,
   "metadata": {
    "collapsed": false
   },
   "outputs": [],
   "source": [
    "from tkp.db.model import Image\n",
    "from sqlalchemy import create_engine, not_\n",
    "from sqlalchemy.orm import sessionmaker\n",
    "from scipy.stats import norm\n",
    "from tkp.db.quality import reject, reject_reasons"
   ]
  },
  {
   "cell_type": "markdown",
   "metadata": {},
   "source": [
    "### settings"
   ]
  },
  {
   "cell_type": "code",
   "execution_count": 36,
   "metadata": {
    "collapsed": true
   },
   "outputs": [],
   "source": [
    "host = 'localhost'\n",
    "user = 'gijs'\n",
    "password = 'gijs'\n",
    "database = 'gijs'\n",
    "dataset_id = 1\n",
    "print_query = False\n",
    "est_sigma = 4"
   ]
  },
  {
   "cell_type": "markdown",
   "metadata": {},
   "source": [
    "### setup connections and get images"
   ]
  },
  {
   "cell_type": "code",
   "execution_count": 40,
   "metadata": {
    "collapsed": true
   },
   "outputs": [],
   "source": [
    "param = ('postgresql', user, password, host, 5432, database)\n",
    "alchemy_engine = create_engine('%s://%s:%s@%s:%s/%s' % param, echo=print_query)\n",
    "Session = sessionmaker(bind=alchemy_engine)\n",
    "session = Session()"
   ]
  },
  {
   "cell_type": "code",
   "execution_count": 37,
   "metadata": {
    "collapsed": false
   },
   "outputs": [],
   "source": [
    "def reject_bad_rms(session, dataset_id, est_sigma):\n",
    "    images = session.query(Image.rms_qc).filter(Image.dataset_id == dataset_id).all()\n",
    "    mu, sigma = norm.fit(images)\n",
    "    t_low = mu - sigma * est_sigma\n",
    "    t_high = mu + sigma * est_sigma\n",
    "    bad_images = session.query(Image).filter(not_(Image.rms_qc.between(t_low, t_high))).all()\n",
    "    reason = reject_reasons['rms']\n",
    "    for b in bad_images:\n",
    "        comment = \"RMS of {} is outside range of ({:.3f}, {:.3f}), est_sigma={}\".format(b.rms_qc, t_low, t_high, est_sigma)\n",
    "        reject(b.id, reason, comment, session)\n",
    "        \n",
    "reject_bad_rms(session, dataset_id, est_sigma)\n",
    "session.commit()"
   ]
  }
 ],
 "metadata": {
  "kernelspec": {
   "display_name": "Python 2",
   "language": "python",
   "name": "python2"
  },
  "language_info": {
   "codemirror_mode": {
    "name": "ipython",
    "version": 2
   },
   "file_extension": ".py",
   "mimetype": "text/x-python",
   "name": "python",
   "nbconvert_exporter": "python",
   "pygments_lexer": "ipython2",
   "version": "2.7.11+"
  }
 },
 "nbformat": 4,
 "nbformat_minor": 0
}
