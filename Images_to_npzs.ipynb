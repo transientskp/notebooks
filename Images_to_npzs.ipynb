{
 "cells": [
  {
   "cell_type": "code",
   "execution_count": null,
   "metadata": {
    "collapsed": true
   },
   "outputs": [],
   "source": [
    "import numpy as np\n",
    "import matplotlib.pyplot as plt\n",
    "from astropy.io import fits\n",
    "from astropy.wcs import WCS\n",
    "import time\n",
    "import pyrap.images as pim\n",
    "\n",
    "from joblib import Parallel, delayed\n",
    "import multiprocessing\n",
    "\n",
    "from astropy import units as u\n",
    "from astropy.coordinates import SkyCoord\n",
    "import os\n",
    "import glob\n",
    "from mpl_toolkits.axes_grid.anchored_artists import AnchoredText\n",
    "import shutil\n",
    "\n",
    "from scipy.interpolate import griddata\n",
    "\n",
    "%matplotlib inline\n",
    "#plt.rcParams['savefig.dpi'] = 100\n",
    "plt.rcParams['figure.figsize']=8,8\n",
    "plt.rcParams['font.size']=12\n",
    "plt.rcParams['axes.labelsize']='xx-large'\n",
    "plt.rcParams['axes.titlesize']='xx-large'"
   ]
  },
  {
   "cell_type": "code",
   "execution_count": null,
   "metadata": {
    "collapsed": true
   },
   "outputs": [],
   "source": [
    "def gen_index(n_measurements,n_images,i):\n",
    "    return np.linspace(0,n_measurements*(n_images-1),n_images,dtype=\"int\")+i"
   ]
  },
  {
   "cell_type": "code",
   "execution_count": null,
   "metadata": {
    "collapsed": true
   },
   "outputs": [],
   "source": [
    "def get_index(h,i):\n",
    "    return np.linspace(0,h[\"num_apertures\"]*(h[\"num_images\"]-1),h[\"num_images\"],dtype=\"int\")+i"
   ]
  },
  {
   "cell_type": "code",
   "execution_count": null,
   "metadata": {
    "collapsed": true
   },
   "outputs": [],
   "source": [
    "def aperture_pixels(data,x,y,r,meshx,meshy):\n",
    "    '''Return data (2D array) values which fall within a pixel distance r, of x and y locations. Meshgrids required to \n",
    "    number pixels.'''\n",
    "    return data[np.where(np.sqrt((meshx-x)**2+(meshy-y)**2.) <= r)]"
   ]
  },
  {
   "cell_type": "code",
   "execution_count": null,
   "metadata": {
    "collapsed": true
   },
   "outputs": [],
   "source": [
    "def annulus(x,y,inner, outter, center=512):\n",
    "    '''Returns the indexs for a 2D annulus.\n",
    "    input:\n",
    "        x: x axis meshgrid\n",
    "        y: y axis meshgrid\n",
    "        inner: inner '''\n",
    "    dinner = np.cos(np.radians(inner))*center\n",
    "    doutter =  np.cos(np.radians(outter))*center\n",
    "\n",
    "    return (np.sqrt((x-center)**2.+(y-center)**2.) <= doutter)& (np.sqrt((x-center)**2.+(y-center)**2.) >= dinner)"
   ]
  },
  {
   "cell_type": "code",
   "execution_count": null,
   "metadata": {
    "collapsed": true
   },
   "outputs": [],
   "source": [
    "def loop_save(img, save=1):\n",
    "    '''Input an image and save numpy arrays for the pixel x/y image position,  pixel values, \n",
    "    also use the images WCS to save the cooresponting Ra/dec values. \n",
    "    \n",
    "    Kwarg:\n",
    "        save: 1 = save dic a .npz file (default), 0 = return dic. \n",
    "    \n",
    "    \n",
    "    TODO \n",
    "        check .fits or .image, \n",
    "        strip .fits or .image from output filename. \n",
    "        recode nested for loops to something more clever/faster\n",
    "    '''\n",
    "    if os.path.exists(img+\".npz\"):\n",
    "        print \"Skipping: \"+img\n",
    "        return\n",
    "    else:\n",
    "        print \"Processing: \"+img\n",
    "    image_wcs = WCS(img)\n",
    "    img_data = np.array(fits.open(img)[0].data[0,0,:,:])\n",
    "    #img_data = pim.image(img).getdata()[0,0,:,:]\n",
    "    \n",
    "    ra, dec,n, nn = image_wcs.wcs_pix2world(meshx,meshy,1,1,1)\n",
    "    nump_dic = np.array([],dtype=[(\"ra\",np.float32 ),\n",
    "                              (\"dec\",np.float32),\n",
    "                              (\"x\",np.int32),\n",
    "                              (\"y\",np.int32),\n",
    "                              (\"rms\",np.ndarray)] )\n",
    "\n",
    "\n",
    "    t1 = time.time()\n",
    "    for i in np.linspace(0,1024,1024/8, endpoint=False):\n",
    "        #print i \n",
    "        for j in np.linspace(0,1024,1024/8, endpoint=False):\n",
    "            if np.isfinite(ra[i,j]) and np.isfinite(dec[i,j]):\n",
    "            \n",
    "                nump_dic = np.append(nump_dic, np.array([(ra[i,j],dec[i,j],i,j,img_data[i,j]) ],\n",
    "                                                    dtype=[(\"ra\",np.float32 ),\n",
    "                                                           (\"dec\",np.float32),\n",
    "                                                           (\"x\",np.int32),\n",
    "                                                           (\"y\",np.int32),\n",
    "                                                           (\"rms\",np.ndarray)]))\n",
    "    if save:\n",
    "        np.savez(img+\".npz\",nump_dic)\n",
    "        print time.time()-t1\n",
    "        return\n",
    "    else:\n",
    "        print time.time()-t1\n",
    "        return nump_dic"
   ]
  },
  {
   "cell_type": "code",
   "execution_count": null,
   "metadata": {
    "collapsed": true
   },
   "outputs": [],
   "source": [
    "## this needs to point to a folder full of pyse image.rms.fits files.\n",
    "imdir=\n",
    "fits_list = sorted(glob.glob(imdir+\"*.image.rms.fits\"))\n",
    "\n",
    "meshx, meshy = np.meshgrid(np.linspace(0,1023,1024),np.linspace(0,1023,1024))\n",
    "\n",
    "Parallel(n_jobs=12)(delayed(loop_save)(img)for img in fits_list)"
   ]
  },
  {
   "cell_type": "code",
   "execution_count": null,
   "metadata": {
    "collapsed": true
   },
   "outputs": [],
   "source": [
    "t1 = time.time()\n",
    "img_list = sorted(glob.glob(imdir+\"*.image.fits.npz\"))\n",
    "\n",
    "rms_annulus = np.zeros(18)\n",
    "\n",
    "std = np.zeros(12849*len(img_list),dtype=np.float32)\n",
    "x = np.zeros(12849*len(img_list),dtype=np.int32)\n",
    "y = np.zeros(12849*len(img_list),dtype=np.int32)\n",
    "ra = np.zeros(12849*len(img_list),dtype=np.float32)\n",
    "dec = np.zeros(12849*len(img_list),dtype=np.float32)\n",
    "beam = np.zeros(12849*len(img_list),dtype=np.float32)\n",
    "weight = np.ones(12849*len(img_list),dtype=np.float32)\n",
    "\n",
    "total = len(img_list)\n",
    "   \n",
    "for i in range(len(img_list)):\n",
    "    print i, img_list[i]\n",
    "    load_data = np.load(img_list[i])\n",
    "    \n",
    "    x[i*12849:(i+1)*12849] = load_data[\"arr_0\"][\"x\"]\n",
    "    y[i*12849:(i+1)*12849] = load_data[\"arr_0\"][\"y\"]\n",
    "        \n",
    "    std[i*12849:(i+1)*12849] = load_data[\"arr_0\"][\"rms\"]\n",
    "    beam[i*12849:(i+1)*12849] = load_data[\"arr_0\"][\"rms\"]\n",
    "\n",
    "    ra[i*12849:(i+1)*12849] = load_data[\"arr_0\"][\"ra\"]\n",
    "    dec[i*12849:(i+1)*12849] = load_data[\"arr_0\"][\"dec\"]\n",
    "    \n",
    "for i in range(18):\n",
    "    mask = annulus(x,y,(i/2.+0.5)*10,i/2.*10)\n",
    "    rms_annulus[i] = np.median(std[mask])\n",
    "    beam[mask] = np.ones(len(beam[mask]))*np.median(std[mask])\n",
    "        \n",
    "print time.time() -t1\n",
    "\n",
    "#plot elevation angle vs. median RMS in anulus across all RMS maps.\n",
    "plt.plot(np.arange(18)/2.*10,rms_annulus,lw=5, c=\"black\", label=\"total\")\n",
    "plt.xlabel(\"Elevation Angle\")\n",
    "plt.ylabel(\"Median RMS [Jy/beam]\")\n",
    "plt.legend()\n",
    "\n"
   ]
  },
  {
   "cell_type": "code",
   "execution_count": null,
   "metadata": {
    "collapsed": true
   },
   "outputs": [],
   "source": [
    "#save outputs so you dont need to calculate it again.\n",
    "np.savez(imdir+\"tot_beam\",beam=beam)\n",
    "np.savez(imdir+\"tot_std.npz\",std=std)\n",
    "\n",
    "np.savez(imdir+\"tot_ra.npz\",ra=ra)\n",
    "np.savez(imdir+\"tot_dec.npz\",dec=dec)\n",
    "\n",
    "np.savez(imdir+\"tot_x.npz\",x=x)\n",
    "np.savez(imdir+\"tot_y.npz\",y=y)"
   ]
  }
 ],
 "metadata": {
  "kernelspec": {
   "display_name": "Python 2",
   "language": "python",
   "name": "python2"
  },
  "language_info": {
   "codemirror_mode": {
    "name": "ipython",
    "version": 2
   },
   "file_extension": ".py",
   "mimetype": "text/x-python",
   "name": "python",
   "nbconvert_exporter": "python",
   "pygments_lexer": "ipython2",
   "version": "2.7.6"
  }
 },
 "nbformat": 4,
 "nbformat_minor": 0
}
