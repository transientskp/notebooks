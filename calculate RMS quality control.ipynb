{
 "cells": [
  {
   "cell_type": "markdown",
   "metadata": {},
   "source": [
    "# Calculate the RMS values for a given dataset and fit a gaussian on it\n"
   ]
  },
  {
   "cell_type": "code",
   "execution_count": null,
   "metadata": {
    "collapsed": true
   },
   "outputs": [],
   "source": [
    "from tkp.db.model import Image\n",
    "import tkp.db\n",
    "import math\n",
    "import numpy as np\n",
    "from scipy.optimize import leastsq\n",
    "from collections import defaultdict\n",
    "import matplotlib\n",
    "%matplotlib inline\n",
    "from matplotlib import pyplot"
   ]
  },
  {
   "cell_type": "markdown",
   "metadata": {},
   "source": [
    "### settings"
   ]
  },
  {
   "cell_type": "code",
   "execution_count": null,
   "metadata": {
    "collapsed": true
   },
   "outputs": [],
   "source": [
    "host = 'localhost'\n",
    "port = 5432\n",
    "user = 'gijs'\n",
    "password = 'gijs'\n",
    "database = 'gijs'\n",
    "dataset_id = 1\n",
    "sigma = 4"
   ]
  },
  {
   "cell_type": "markdown",
   "metadata": {},
   "source": [
    "### Helper functions"
   ]
  },
  {
   "cell_type": "code",
   "execution_count": null,
   "metadata": {
    "collapsed": false
   },
   "outputs": [],
   "source": [
    "def norm2(x, mean, sd):\n",
    "    \"\"\"\n",
    "    creates a normal distribution in a simple array for plotting\n",
    "    \"\"\"\n",
    "    normdist = []\n",
    "    for i in range(len(x)):\n",
    "        normdist += [1.0/(sd*np.sqrt(2*np.pi))*np.exp(-(x[i] - mean)**2/(2*sd**2))]\n",
    "    return np.array(normdist)\n",
    "\n",
    "\n",
    "def guess_p(x):\n",
    "    \"\"\"\n",
    "    estimate the mean and rms as initial inumpy.ts to the Gaussian fitting\n",
    "    \"\"\"\n",
    "    if len(x) == 0:\n",
    "        return [0, 0, 0]\n",
    "    median = np.median(x)\n",
    "    temp = [n*n-(median*median) for n in x]\n",
    "    rms = math.sqrt((abs(sum(temp))/len(x)))\n",
    "    return [median, rms, math.sqrt(len(x))]\n",
    "\n",
    "\n",
    "def res(p, y, x):\n",
    "    \"\"\"\n",
    "    calculate residuals between data and Gaussian model\n",
    "    \"\"\"\n",
    "    m1, sd1, a = p\n",
    "    y_fit = a*norm2(x, m1, sd1)\n",
    "    err = y - y_fit\n",
    "    return err\n",
    "\n",
    "\n",
    "def rms_histogram(x, sigma=8, name='rms_plot'):\n",
    "    \"\"\"\n",
    "    args:\n",
    "        x: an array of RMS values\n",
    "\n",
    "    returns:\n",
    "        a matplotlib figure canvas\n",
    "    \"\"\"\n",
    "    p = guess_p(x)\n",
    "    hist_x = np.histogram(x, bins=50)              # histogram of data\n",
    "    range_x = [hist_x[1][n]+(hist_x[1][n+1]-hist_x[1][n])/2. for n in range(len(hist_x[1])-1)]\n",
    "    plsq = leastsq(res, p, args=(hist_x[0], range_x))  # fit Gaussian to data\n",
    "    fit2 = plsq[0][2]*norm2(range_x, plsq[0][0], plsq[0][1])  # create Gaussian distribution for plotting on graph\n",
    "    sigcut = plsq[0][0]+plsq[0][1]*sigma  # max threshold defined as (mean + RMS * sigma)\n",
    "    sigcut2 = plsq[0][0]-plsq[0][1]*sigma  # min threshold defined as (mean - RMS * sigma)\n",
    "\n",
    "    xvals = np.arange(int(min(range_x)), int(max(range_x)+1.5), 1)\n",
    "    xlabs = [str(10.**a) for a in xvals]\n",
    "    fig = pyplot.figure(figsize=(5, 5))\n",
    "    pyplot.hist(x, bins=50, histtype='stepfilled')\n",
    "    pyplot.plot(range_x, fit2, 'r-', linewidth=3)\n",
    "    pyplot.axvline(x=sigcut, linewidth=2, color='k', linestyle='--')\n",
    "    pyplot.axvline(x=sigcut2, linewidth=2, color='k', linestyle='--')\n",
    "    pyplot.xticks(xvals, xlabs)\n",
    "    pyplot.xlabel(name)\n",
    "    pyplot.ylabel('Number of images')"
   ]
  },
  {
   "cell_type": "markdown",
   "metadata": {},
   "source": [
    "### setup connections and get images"
   ]
  },
  {
   "cell_type": "code",
   "execution_count": null,
   "metadata": {
    "collapsed": false
   },
   "outputs": [],
   "source": [
    "db = tkp.db.Database(host=host, engine='postgresql', port=port, user=user, password=password, database=database)\n",
    "db.connect()\n",
    "session = db.Session()\n",
    "images = session.query(Image).filter(Image.dataset_id == dataset_id).all()\n",
    "print(\"number of images: %s\" % len(images))"
   ]
  },
  {
   "cell_type": "markdown",
   "metadata": {},
   "source": [
    "### Prepare data and render plots"
   ]
  },
  {
   "cell_type": "code",
   "execution_count": null,
   "metadata": {
    "collapsed": false
   },
   "outputs": [],
   "source": [
    "freqs = defaultdict(list)\n",
    "all_rms = []\n",
    "for i in images:\n",
    "    all_rms += [i.rms_qc]\n",
    "    freqs[i.band.freq_central].append(i.rms_qc)\n",
    "    \n",
    "rms_values = [i.rms_qc for i in images]\n",
    "name = 'RMS plot for all frequencies'\n",
    "rms_histogram(all_rms, sigma=sigma, name=name)\n",
    "\n",
    "for freq, values in freqs.items():\n",
    "    name = 'RMS plot for frequency %s' % freq\n",
    "    rms_histogram(values, sigma=sigma, name=name)\n",
    "    "
   ]
  }
 ],
 "metadata": {
  "kernelspec": {
   "display_name": "Python 2",
   "language": "python",
   "name": "python2"
  },
  "language_info": {
   "codemirror_mode": {
    "name": "ipython",
    "version": 2
   },
   "file_extension": ".py",
   "mimetype": "text/x-python",
   "name": "python",
   "nbconvert_exporter": "python",
   "pygments_lexer": "ipython2",
   "version": "2.7.11"
  }
 },
 "nbformat": 4,
 "nbformat_minor": 0
}
