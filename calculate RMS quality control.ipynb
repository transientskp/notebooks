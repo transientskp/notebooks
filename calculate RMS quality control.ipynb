{
 "cells": [
  {
   "cell_type": "markdown",
   "metadata": {},
   "source": [
    "# Calculate the RMS values for a given dataset and fit a gaussian on it\n"
   ]
  },
  {
   "cell_type": "code",
   "execution_count": null,
   "metadata": {
    "collapsed": false
   },
   "outputs": [],
   "source": [
    "from tkp.db.model import Image\n",
    "from sqlalchemy import create_engine\n",
    "from sqlalchemy.orm import sessionmaker\n",
    "from scipy.stats import norm\n",
    "from collections import defaultdict\n",
    "import matplotlib\n",
    "%matplotlib inline\n",
    "import matplotlib.mlab as mlab\n",
    "import matplotlib.pyplot as plt\n"
   ]
  },
  {
   "cell_type": "markdown",
   "metadata": {},
   "source": [
    "### settings"
   ]
  },
  {
   "cell_type": "code",
   "execution_count": null,
   "metadata": {
    "collapsed": true
   },
   "outputs": [],
   "source": [
    "host = 'localhost'\n",
    "port = 5432\n",
    "user = 'gijs'\n",
    "password = 'gijs'\n",
    "database = 'gijs'\n",
    "dataset_id = 1\n",
    "print_query = False\n",
    "sigma_thresh = 4"
   ]
  },
  {
   "cell_type": "markdown",
   "metadata": {},
   "source": [
    "### Helper functions"
   ]
  },
  {
   "cell_type": "code",
   "execution_count": null,
   "metadata": {
    "collapsed": false
   },
   "outputs": [],
   "source": [
    "def rms_histogram(all_rms, sigma_thresh, frequency_name):\n",
    "    \"\"\"\n",
    "    args:\n",
    "        x: an array of RMS values\n",
    "    \"\"\"\n",
    "    bin_num = 50\n",
    "    # best fit of data\n",
    "    (mu, sigma) = norm.fit(all_rms)\n",
    "\n",
    "    # the histogram of the data\n",
    "    n, bins, patches = plt.hist(all_rms, bin_num, facecolor='green', normed=1, alpha=0.6)\n",
    "\n",
    "    # add a 'best fit' line\n",
    "    y = mlab.normpdf( bins, mu, sigma)\n",
    "    l = plt.plot(bins, y, 'r--', linewidth=2)\n",
    "\n",
    "    thres_low = mu - sigma * sigma_thresh\n",
    "    thres_high = mu + sigma * sigma_thresh\n",
    "\n",
    "    plt.xlabel('RMS')\n",
    "    plt.ylabel('Number if images in bin')\n",
    "    t = r'$f={}\\ \\mu={:.3f},\\ \\sigma={:.3f},\\ t={}\\ t_{{\\uparrow}}={:.3f}\\ t_{{\\downarrow}}={:.3f}$'\n",
    "    plt.title(t.format(frequency_name, mu, sigma, sigma_thresh, thres_low, thres_high))\n",
    "\n",
    "    plt.axvline(x=thres_low, linewidth=2, color='k', linestyle='--')\n",
    "    plt.axvline(x=thres_high, linewidth=2, color='k', linestyle='--')\n",
    "    plt.grid(True)\n",
    "    plt.xlim(mu - sigma * sigma_thresh * 1.5, mu + sigma * sigma_thresh * 1.5)\n",
    "\n",
    "    plt.show()"
   ]
  },
  {
   "cell_type": "markdown",
   "metadata": {},
   "source": [
    "### setup connections and get images"
   ]
  },
  {
   "cell_type": "code",
   "execution_count": null,
   "metadata": {
    "collapsed": false
   },
   "outputs": [],
   "source": [
    "param = ('postgresql', user, password, host, port, database)\n",
    "alchemy_engine = create_engine('%s://%s:%s@%s:%s/%s' % param, echo=print_query)\n",
    "Session = sessionmaker(bind=alchemy_engine)\n",
    "session = Session()\n",
    "images = session.query(Image).filter(Image.dataset_id == dataset_id).all()\n",
    "print(\"number of images: %s\" % len(images))"
   ]
  },
  {
   "cell_type": "markdown",
   "metadata": {},
   "source": [
    "### Prepare data and render plots"
   ]
  },
  {
   "cell_type": "code",
   "execution_count": null,
   "metadata": {
    "collapsed": false
   },
   "outputs": [],
   "source": [
    "freqs = defaultdict(list)\n",
    "all_rms = []\n",
    "for i in images:\n",
    "    all_rms += [i.rms_qc]\n",
    "    freqs[i.band.freq_central].append(i.rms_qc)\n",
    "    \n",
    "rms_values = [i.rms_qc for i in images]\n",
    "frequency_name = 'all'\n",
    "rms_histogram(all_rms, sigma_thresh, frequency_name)\n",
    "\n",
    "for freq, values in freqs.items():\n",
    "    frequency_name = str(freq)\n",
    "    rms_histogram(values, sigma_thresh, frequency_name)\n",
    "    "
   ]
  }
 ],
 "metadata": {
  "kernelspec": {
   "display_name": "Python 2",
   "language": "python",
   "name": "python2"
  },
  "language_info": {
   "codemirror_mode": {
    "name": "ipython",
    "version": 2
   },
   "file_extension": ".py",
   "mimetype": "text/x-python",
   "name": "python",
   "nbconvert_exporter": "python",
   "pygments_lexer": "ipython2",
   "version": "2.7.11+"
  }
 },
 "nbformat": 4,
 "nbformat_minor": 0
}
