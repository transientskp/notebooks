{
 "cells": [
  {
   "cell_type": "markdown",
   "metadata": {},
   "source": [
    "\n",
    "# The protocol header\n",
    "\n",
    "This is an example on how to parse the output from the AARTFAAC correlator using Python.\n",
    "\n",
    "This is the window layout:\n",
    "```\n",
    "#pragma once\n",
    "#include <stdint.h>\n",
    "#define MAGIC 0x47494A53484F4D4F\n",
    "struct output_hdr_t\n",
    "{\n",
    "  uint64_t magic;               # unsigned long long\n",
    "  uint32_t fits_header_size;    # unsigned long\n",
    "  uint32_t array_size;          # unsigned long\n",
    "  uint8_t pad[512-16];\n",
    "};\n",
    "```"
   ]
  },
  {
   "cell_type": "code",
   "execution_count": null,
   "metadata": {
    "collapsed": true
   },
   "outputs": [],
   "source": [
    "import socket\n",
    "import StringIO\n",
    "import struct\n",
    "import time\n",
    "import astropy.io.fits.header\n",
    "import astropy.io.fits\n",
    "import numpy as np\n",
    "import matplotlib\n",
    "import matplotlib.pyplot as plt\n",
    "\n",
    "%matplotlib inline"
   ]
  },
  {
   "cell_type": "code",
   "execution_count": null,
   "metadata": {
    "collapsed": true
   },
   "outputs": [],
   "source": [
    "HOSTNAME = 'localhost'\n",
    "PORT = 6000"
   ]
  },
  {
   "cell_type": "code",
   "execution_count": null,
   "metadata": {
    "collapsed": true
   },
   "outputs": [],
   "source": [
    "checksum = 0x47494A53484F4D4F"
   ]
  },
  {
   "cell_type": "code",
   "execution_count": null,
   "metadata": {
    "collapsed": true
   },
   "outputs": [],
   "source": [
    "def getbytes(socket_, bytes_):\n",
    "    \"\"\"Read an amount of bytes from the socket\"\"\"\n",
    "    result = StringIO.StringIO()\n",
    "    count = bytes_\n",
    "    while count > 0:\n",
    "        recv = socket_.recv(count)\n",
    "        if len(recv) == 0:\n",
    "            raise Exception(\"Server closed connection\")\n",
    "        count -= len(recv)\n",
    "        result.write(recv)\n",
    "    return result.getvalue()"
   ]
  },
  {
   "cell_type": "code",
   "execution_count": null,
   "metadata": {
    "collapsed": false,
    "scrolled": true
   },
   "outputs": [],
   "source": [
    "def read_window(socket_):\n",
    "    \"\"\"\n",
    "    read raw aarfaac protocol window\n",
    "    \n",
    "    returns: fits_bytes, image_bytes\n",
    "    \"\"\"\n",
    "    header_bytes = getbytes(socket_, 512)\n",
    "    magic = struct.unpack('Q', header_bytes[:8])[0]\n",
    "    fits_length = struct.unpack('=L', header_bytes[8:12])[0]\n",
    "    array_length = struct.unpack('=L', header_bytes[12:16])[0]\n",
    "    assert magic == checksum, str(magic) + '!=' + str(checksum)\n",
    "    fits_bytes = getbytes(socket_, fits_length)\n",
    "    image_bytes = getbytes(socket_, array_length)\n",
    "    return fits_bytes, image_bytes\n"
   ]
  },
  {
   "cell_type": "code",
   "execution_count": null,
   "metadata": {
    "collapsed": true
   },
   "outputs": [],
   "source": [
    "def reconstruct_fits(fits_bytes, image_bytes):\n",
    "    hdu_header = astropy.io.fits.header.Header.fromstring(fits_bytes)   \n",
    "    width = hdu_header[\"NAXIS1\"]\n",
    "    length = hdu_header[\"NAXIS2\"]\n",
    "    image_array = struct.unpack(str(len(image_bytes)/4) + 'f', image_bytes)\n",
    "    image_matrix = np.reshape(image_array, (width, length))\n",
    "    hdu = astropy.io.fits.PrimaryHDU(image_matrix)\n",
    "    hdu.header = hdu_header\n",
    "    hdulist = astropy.io.fits.HDUList([hdu])\n",
    "    return hdulist"
   ]
  },
  {
   "cell_type": "code",
   "execution_count": null,
   "metadata": {
    "collapsed": false
   },
   "outputs": [],
   "source": [
    "socket_ = socket.socket(socket.AF_INET, socket.SOCK_STREAM)\n",
    "socket_.connect((HOSTNAME, PORT))\n",
    "\n",
    "while True:\n",
    "    print \"tik\"\n",
    "    fits_bytes, image_bytes = read_window(socket_)\n",
    "    time.sleep(1)\n",
    "    #fits = reconstruct_fits(fits_bytes, image_bytes)\n",
    "    #plt.figure(i)\n",
    "    #plt.imshow(fits[0].data, cmap='gray')\n",
    "    #plt.colorbar()\n"
   ]
  }
 ],
 "metadata": {
  "kernelspec": {
   "display_name": "Python 2",
   "language": "python",
   "name": "python2"
  },
  "language_info": {
   "codemirror_mode": {
    "name": "ipython",
    "version": 2
   },
   "file_extension": ".py",
   "mimetype": "text/x-python",
   "name": "python",
   "nbconvert_exporter": "python",
   "pygments_lexer": "ipython2",
   "version": "2.7.11+"
  }
 },
 "nbformat": 4,
 "nbformat_minor": 0
}
