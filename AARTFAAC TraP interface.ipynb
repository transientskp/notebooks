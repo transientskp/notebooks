{
 "cells": [
  {
   "cell_type": "markdown",
   "metadata": {},
   "source": [
    "\n",
    "# The protocol header\n",
    "```\n",
    "#pragma once\n",
    "#include <stdint.h>\n",
    "#define MAGIC 0x47494A53484F4D4F\n",
    "struct output_hdr_t\n",
    "{\n",
    "  uint64_t magic;               # unsigned long long\n",
    "  uint32_t fits_header_size;    # unsigned long\n",
    "  uint32_t array_size;          # unsigned long\n",
    "  uint8_t pad[512-16];\n",
    "};\n",
    "```"
   ]
  },
  {
   "cell_type": "code",
   "execution_count": 51,
   "metadata": {
    "collapsed": true
   },
   "outputs": [],
   "source": [
    "import socket\n",
    "import StringIO\n",
    "import struct\n",
    "import time\n",
    "import astropy.io.fits.header\n",
    "import astropy.io.fits\n",
    "import numpy as np\n",
    "import matplotlib\n",
    "import matplotlib.pyplot as plt\n",
    "\n",
    "%matplotlib inline"
   ]
  },
  {
   "cell_type": "code",
   "execution_count": 52,
   "metadata": {
    "collapsed": true
   },
   "outputs": [],
   "source": [
    "HOSTNAME = 'localhost'\n",
    "PORT = 6000"
   ]
  },
  {
   "cell_type": "code",
   "execution_count": 53,
   "metadata": {
    "collapsed": true
   },
   "outputs": [],
   "source": [
    "checksum = 0x47494A53484F4D4F"
   ]
  },
  {
   "cell_type": "code",
   "execution_count": 54,
   "metadata": {
    "collapsed": true
   },
   "outputs": [],
   "source": [
    "def getbytes(socket_, bytes_):\n",
    "    \"\"\"Read an amount of bytes from the socket\"\"\"\n",
    "    result = StringIO.StringIO()\n",
    "    count = bytes_\n",
    "    while count > 0:\n",
    "        recv = socket_.recv(count)\n",
    "        if len(recv) == 0:\n",
    "            raise Exception(\"Server closed connection\")\n",
    "        count -= len(recv)\n",
    "        result.write(recv)\n",
    "    return result.getvalue()"
   ]
  },
  {
   "cell_type": "code",
   "execution_count": 55,
   "metadata": {
    "collapsed": false,
    "scrolled": true
   },
   "outputs": [],
   "source": [
    "def read_window(socket_):\n",
    "    \"\"\"\n",
    "    read raw aarfaac protocol window\n",
    "    \n",
    "    returns: fits_bytes, image_bytes\n",
    "    \"\"\"\n",
    "    header_bytes = getbytes(socket_, 512)\n",
    "    magic = struct.unpack('Q', header_bytes[:8])[0]\n",
    "    fits_length = struct.unpack('=L', header_bytes[8:12])[0]\n",
    "    array_length = struct.unpack('=L', header_bytes[12:16])[0]\n",
    "    assert magic == checksum, str(magic) + '!=' + str(checksum)\n",
    "    fits_bytes = getbytes(socket_, fits_length)\n",
    "    image_bytes = getbytes(socket_, array_length)\n",
    "    return fits_bytes, image_bytes\n"
   ]
  },
  {
   "cell_type": "code",
   "execution_count": 56,
   "metadata": {
    "collapsed": true
   },
   "outputs": [],
   "source": [
    "def reconstruct_fits(fits_bytes, image_bytes):\n",
    "    hdu_header = astropy.io.fits.header.Header.fromstring(fits_bytes)   \n",
    "    width = hdu_header[\"NAXIS1\"]\n",
    "    length = hdu_header[\"NAXIS2\"]\n",
    "    image_array = struct.unpack(str(len(image_bytes)/4) + 'f', image_bytes)\n",
    "    image_matrix = np.reshape(image_array, (width, length))\n",
    "    hdu = astropy.io.fits.PrimaryHDU(image_matrix)\n",
    "    hdu.header = hdu_header\n",
    "    hdulist = astropy.io.fits.HDUList([hdu])\n",
    "    return hdulist"
   ]
  },
  {
   "cell_type": "code",
   "execution_count": 57,
   "metadata": {
    "collapsed": false
   },
   "outputs": [
    {
     "name": "stdout",
     "output_type": "stream",
     "text": [
      "tik\n",
      "tik\n",
      "tik\n",
      "tik\n",
      "tik\n"
     ]
    },
    {
     "ename": "AssertionError",
     "evalue": "0!=5136718571548659023",
     "output_type": "error",
     "traceback": [
      "\u001b[1;31m---------------------------------------------------------------------------\u001b[0m",
      "\u001b[1;31mAssertionError\u001b[0m                            Traceback (most recent call last)",
      "\u001b[1;32m<ipython-input-57-ad1199b7e194>\u001b[0m in \u001b[0;36m<module>\u001b[1;34m()\u001b[0m\n\u001b[0;32m      4\u001b[0m \u001b[1;32mwhile\u001b[0m \u001b[0mTrue\u001b[0m\u001b[1;33m:\u001b[0m\u001b[1;33m\u001b[0m\u001b[0m\n\u001b[0;32m      5\u001b[0m     \u001b[1;32mprint\u001b[0m \u001b[1;34m\"tik\"\u001b[0m\u001b[1;33m\u001b[0m\u001b[0m\n\u001b[1;32m----> 6\u001b[1;33m     \u001b[0mfits_bytes\u001b[0m\u001b[1;33m,\u001b[0m \u001b[0mimage_bytes\u001b[0m \u001b[1;33m=\u001b[0m \u001b[0mread_window\u001b[0m\u001b[1;33m(\u001b[0m\u001b[0msocket_\u001b[0m\u001b[1;33m)\u001b[0m\u001b[1;33m\u001b[0m\u001b[0m\n\u001b[0m\u001b[0;32m      7\u001b[0m     \u001b[0mtime\u001b[0m\u001b[1;33m.\u001b[0m\u001b[0msleep\u001b[0m\u001b[1;33m(\u001b[0m\u001b[1;36m1\u001b[0m\u001b[1;33m)\u001b[0m\u001b[1;33m\u001b[0m\u001b[0m\n\u001b[0;32m      8\u001b[0m     \u001b[1;31m#fits = reconstruct_fits(fits_bytes, image_bytes)\u001b[0m\u001b[1;33m\u001b[0m\u001b[1;33m\u001b[0m\u001b[0m\n",
      "\u001b[1;32m<ipython-input-55-f01f5abce087>\u001b[0m in \u001b[0;36mread_window\u001b[1;34m(socket_)\u001b[0m\n\u001b[0;32m      9\u001b[0m     \u001b[0mfits_length\u001b[0m \u001b[1;33m=\u001b[0m \u001b[0mstruct\u001b[0m\u001b[1;33m.\u001b[0m\u001b[0munpack\u001b[0m\u001b[1;33m(\u001b[0m\u001b[1;34m'=L'\u001b[0m\u001b[1;33m,\u001b[0m \u001b[0mheader_bytes\u001b[0m\u001b[1;33m[\u001b[0m\u001b[1;36m8\u001b[0m\u001b[1;33m:\u001b[0m\u001b[1;36m12\u001b[0m\u001b[1;33m]\u001b[0m\u001b[1;33m)\u001b[0m\u001b[1;33m[\u001b[0m\u001b[1;36m0\u001b[0m\u001b[1;33m]\u001b[0m\u001b[1;33m\u001b[0m\u001b[0m\n\u001b[0;32m     10\u001b[0m     \u001b[0marray_length\u001b[0m \u001b[1;33m=\u001b[0m \u001b[0mstruct\u001b[0m\u001b[1;33m.\u001b[0m\u001b[0munpack\u001b[0m\u001b[1;33m(\u001b[0m\u001b[1;34m'=L'\u001b[0m\u001b[1;33m,\u001b[0m \u001b[0mheader_bytes\u001b[0m\u001b[1;33m[\u001b[0m\u001b[1;36m12\u001b[0m\u001b[1;33m:\u001b[0m\u001b[1;36m16\u001b[0m\u001b[1;33m]\u001b[0m\u001b[1;33m)\u001b[0m\u001b[1;33m[\u001b[0m\u001b[1;36m0\u001b[0m\u001b[1;33m]\u001b[0m\u001b[1;33m\u001b[0m\u001b[0m\n\u001b[1;32m---> 11\u001b[1;33m     \u001b[1;32massert\u001b[0m \u001b[0mmagic\u001b[0m \u001b[1;33m==\u001b[0m \u001b[0mchecksum\u001b[0m\u001b[1;33m,\u001b[0m \u001b[0mstr\u001b[0m\u001b[1;33m(\u001b[0m\u001b[0mmagic\u001b[0m\u001b[1;33m)\u001b[0m \u001b[1;33m+\u001b[0m \u001b[1;34m'!='\u001b[0m \u001b[1;33m+\u001b[0m \u001b[0mstr\u001b[0m\u001b[1;33m(\u001b[0m\u001b[0mchecksum\u001b[0m\u001b[1;33m)\u001b[0m\u001b[1;33m\u001b[0m\u001b[0m\n\u001b[0m\u001b[0;32m     12\u001b[0m     \u001b[0mfits_bytes\u001b[0m \u001b[1;33m=\u001b[0m \u001b[0mgetbytes\u001b[0m\u001b[1;33m(\u001b[0m\u001b[0msocket_\u001b[0m\u001b[1;33m,\u001b[0m \u001b[0mfits_length\u001b[0m\u001b[1;33m)\u001b[0m\u001b[1;33m\u001b[0m\u001b[0m\n\u001b[0;32m     13\u001b[0m     \u001b[0mimage_bytes\u001b[0m \u001b[1;33m=\u001b[0m \u001b[0mgetbytes\u001b[0m\u001b[1;33m(\u001b[0m\u001b[0msocket_\u001b[0m\u001b[1;33m,\u001b[0m \u001b[0marray_length\u001b[0m\u001b[1;33m)\u001b[0m\u001b[1;33m\u001b[0m\u001b[0m\n",
      "\u001b[1;31mAssertionError\u001b[0m: 0!=5136718571548659023"
     ]
    }
   ],
   "source": [
    "socket_ = socket.socket(socket.AF_INET, socket.SOCK_STREAM)\n",
    "socket_.connect((HOSTNAME, PORT))\n",
    "\n",
    "while True:\n",
    "    print \"tik\"\n",
    "    fits_bytes, image_bytes = read_window(socket_)\n",
    "    time.sleep(1)\n",
    "    #fits = reconstruct_fits(fits_bytes, image_bytes)\n",
    "    #plt.figure(i)\n",
    "    #plt.imshow(fits[0].data, cmap='gray')\n",
    "    #plt.colorbar()\n"
   ]
  }
 ],
 "metadata": {
  "kernelspec": {
   "display_name": "Python 2",
   "language": "python",
   "name": "python2"
  },
  "language_info": {
   "codemirror_mode": {
    "name": "ipython",
    "version": 2
   },
   "file_extension": ".py",
   "mimetype": "text/x-python",
   "name": "python",
   "nbconvert_exporter": "python",
   "pygments_lexer": "ipython2",
   "version": "2.7.11+"
  }
 },
 "nbformat": 4,
 "nbformat_minor": 0
}
